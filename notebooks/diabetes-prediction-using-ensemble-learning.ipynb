{
 "cells": [
  {
   "cell_type": "markdown",
   "id": "3d494ce0",
   "metadata": {
    "papermill": {
     "duration": 0.004915,
     "end_time": "2024-08-22T08:44:56.274120",
     "exception": false,
     "start_time": "2024-08-22T08:44:56.269205",
     "status": "completed"
    },
    "tags": []
   },
   "source": [
    "**Previous Notebook = [Data Analysis](https://www.kaggle.com/code/rahul713/diabetes-data-analysis#Feature-Selection)**"
   ]
  },
  {
   "cell_type": "code",
   "execution_count": 1,
   "id": "04bde86f",
   "metadata": {
    "execution": {
     "iopub.execute_input": "2024-08-22T08:44:56.284315Z",
     "iopub.status.busy": "2024-08-22T08:44:56.283894Z",
     "iopub.status.idle": "2024-08-22T08:44:58.238611Z",
     "shell.execute_reply": "2024-08-22T08:44:58.237624Z"
    },
    "papermill": {
     "duration": 1.96272,
     "end_time": "2024-08-22T08:44:58.241228",
     "exception": false,
     "start_time": "2024-08-22T08:44:56.278508",
     "status": "completed"
    },
    "tags": []
   },
   "outputs": [],
   "source": [
    "import numpy as np\n",
    "import pandas as pd\n",
    "import matplotlib.pyplot as plt\n",
    "import seaborn as sns"
   ]
  },
  {
   "cell_type": "code",
   "execution_count": 2,
   "id": "7b33ebf2",
   "metadata": {
    "execution": {
     "iopub.execute_input": "2024-08-22T08:44:58.251631Z",
     "iopub.status.busy": "2024-08-22T08:44:58.251089Z",
     "iopub.status.idle": "2024-08-22T08:44:58.496814Z",
     "shell.execute_reply": "2024-08-22T08:44:58.495886Z"
    },
    "papermill": {
     "duration": 0.253659,
     "end_time": "2024-08-22T08:44:58.499313",
     "exception": false,
     "start_time": "2024-08-22T08:44:58.245654",
     "status": "completed"
    },
    "tags": []
   },
   "outputs": [],
   "source": [
    "df = pd.read_csv('/kaggle/input/diabetes-health-indicators-dataset/diabetes_binary_5050split_health_indicators_BRFSS2015.csv')"
   ]
  },
  {
   "cell_type": "code",
   "execution_count": 3,
   "id": "ee7f7a4c",
   "metadata": {
    "execution": {
     "iopub.execute_input": "2024-08-22T08:44:58.509182Z",
     "iopub.status.busy": "2024-08-22T08:44:58.508810Z",
     "iopub.status.idle": "2024-08-22T08:44:58.514037Z",
     "shell.execute_reply": "2024-08-22T08:44:58.512993Z"
    },
    "papermill": {
     "duration": 0.012903,
     "end_time": "2024-08-22T08:44:58.516452",
     "exception": false,
     "start_time": "2024-08-22T08:44:58.503549",
     "status": "completed"
    },
    "tags": []
   },
   "outputs": [],
   "source": [
    "Selected_features = ['GenHlth' ,'CholCheck' ,'HighBP' ,'AnyHealthcare' ,'PhysActivity' ,'BMI' ,\n",
    "'HighChol' ,'Age' ,'Fruits' ,'Income' ,'DiffWalk' ,'Education' ,'HeartDiseaseorAttack'\n",
    ",'PhysHlth' , 'Smoker']"
   ]
  },
  {
   "cell_type": "code",
   "execution_count": 4,
   "id": "60a998ff",
   "metadata": {
    "execution": {
     "iopub.execute_input": "2024-08-22T08:44:58.527138Z",
     "iopub.status.busy": "2024-08-22T08:44:58.526315Z",
     "iopub.status.idle": "2024-08-22T08:44:58.531401Z",
     "shell.execute_reply": "2024-08-22T08:44:58.530298Z"
    },
    "papermill": {
     "duration": 0.012784,
     "end_time": "2024-08-22T08:44:58.533670",
     "exception": false,
     "start_time": "2024-08-22T08:44:58.520886",
     "status": "completed"
    },
    "tags": []
   },
   "outputs": [],
   "source": [
    "Target = 'Diabetes_binary'"
   ]
  },
  {
   "cell_type": "code",
   "execution_count": 5,
   "id": "7151b366",
   "metadata": {
    "execution": {
     "iopub.execute_input": "2024-08-22T08:44:58.544022Z",
     "iopub.status.busy": "2024-08-22T08:44:58.543233Z",
     "iopub.status.idle": "2024-08-22T08:45:00.480035Z",
     "shell.execute_reply": "2024-08-22T08:45:00.479095Z"
    },
    "papermill": {
     "duration": 1.944464,
     "end_time": "2024-08-22T08:45:00.482399",
     "exception": false,
     "start_time": "2024-08-22T08:44:58.537935",
     "status": "completed"
    },
    "tags": []
   },
   "outputs": [],
   "source": [
    "from catboost import CatBoostClassifier\n",
    "from lightgbm import LGBMClassifier\n",
    "from xgboost import XGBClassifier\n",
    "from sklearn.ensemble import VotingClassifier"
   ]
  },
  {
   "cell_type": "code",
   "execution_count": 6,
   "id": "82d4570b",
   "metadata": {
    "execution": {
     "iopub.execute_input": "2024-08-22T08:45:00.493279Z",
     "iopub.status.busy": "2024-08-22T08:45:00.492265Z",
     "iopub.status.idle": "2024-08-22T08:45:00.513240Z",
     "shell.execute_reply": "2024-08-22T08:45:00.512338Z"
    },
    "papermill": {
     "duration": 0.028819,
     "end_time": "2024-08-22T08:45:00.515569",
     "exception": false,
     "start_time": "2024-08-22T08:45:00.486750",
     "status": "completed"
    },
    "tags": []
   },
   "outputs": [],
   "source": [
    "from sklearn.model_selection import train_test_split\n",
    "X = df[Selected_features]\n",
    "y = df[Target]"
   ]
  },
  {
   "cell_type": "code",
   "execution_count": 7,
   "id": "1c1ec7b3",
   "metadata": {
    "execution": {
     "iopub.execute_input": "2024-08-22T08:45:00.526058Z",
     "iopub.status.busy": "2024-08-22T08:45:00.525240Z",
     "iopub.status.idle": "2024-08-22T08:45:00.552217Z",
     "shell.execute_reply": "2024-08-22T08:45:00.551239Z"
    },
    "papermill": {
     "duration": 0.034946,
     "end_time": "2024-08-22T08:45:00.554843",
     "exception": false,
     "start_time": "2024-08-22T08:45:00.519897",
     "status": "completed"
    },
    "tags": []
   },
   "outputs": [],
   "source": [
    "from sklearn.preprocessing import StandardScaler\n",
    "scaler = StandardScaler()\n",
    "\n",
    "X = scaler.fit_transform(X)"
   ]
  },
  {
   "cell_type": "code",
   "execution_count": 8,
   "id": "bfb51d49",
   "metadata": {
    "execution": {
     "iopub.execute_input": "2024-08-22T08:45:00.565343Z",
     "iopub.status.busy": "2024-08-22T08:45:00.564398Z",
     "iopub.status.idle": "2024-08-22T08:45:00.588834Z",
     "shell.execute_reply": "2024-08-22T08:45:00.587901Z"
    },
    "papermill": {
     "duration": 0.032209,
     "end_time": "2024-08-22T08:45:00.591265",
     "exception": false,
     "start_time": "2024-08-22T08:45:00.559056",
     "status": "completed"
    },
    "tags": []
   },
   "outputs": [],
   "source": [
    "X_train , X_test , y_train , y_test = train_test_split(X, y , test_size=0.2)"
   ]
  },
  {
   "cell_type": "code",
   "execution_count": 9,
   "id": "db91f0b1",
   "metadata": {
    "execution": {
     "iopub.execute_input": "2024-08-22T08:45:00.601170Z",
     "iopub.status.busy": "2024-08-22T08:45:00.600785Z",
     "iopub.status.idle": "2024-08-22T08:45:00.608886Z",
     "shell.execute_reply": "2024-08-22T08:45:00.607834Z"
    },
    "papermill": {
     "duration": 0.015637,
     "end_time": "2024-08-22T08:45:00.611169",
     "exception": false,
     "start_time": "2024-08-22T08:45:00.595532",
     "status": "completed"
    },
    "tags": []
   },
   "outputs": [],
   "source": [
    "cat  = CatBoostClassifier(verbose=0)\n",
    "lgb = LGBMClassifier(verbose = -1)\n",
    "xgb = XGBClassifier()"
   ]
  },
  {
   "cell_type": "code",
   "execution_count": 10,
   "id": "b6a960f6",
   "metadata": {
    "execution": {
     "iopub.execute_input": "2024-08-22T08:45:00.621360Z",
     "iopub.status.busy": "2024-08-22T08:45:00.620424Z",
     "iopub.status.idle": "2024-08-22T08:45:00.625715Z",
     "shell.execute_reply": "2024-08-22T08:45:00.624724Z"
    },
    "papermill": {
     "duration": 0.012689,
     "end_time": "2024-08-22T08:45:00.627924",
     "exception": false,
     "start_time": "2024-08-22T08:45:00.615235",
     "status": "completed"
    },
    "tags": []
   },
   "outputs": [],
   "source": [
    "model = [('cat', cat), ('lgb', lgb), ('xgb', xgb)]\n",
    "\n",
    "clf = VotingClassifier(model , voting='soft' , n_jobs = -1)"
   ]
  },
  {
   "cell_type": "code",
   "execution_count": 11,
   "id": "1300dffe",
   "metadata": {
    "execution": {
     "iopub.execute_input": "2024-08-22T08:45:00.637507Z",
     "iopub.status.busy": "2024-08-22T08:45:00.637114Z",
     "iopub.status.idle": "2024-08-22T08:45:14.769514Z",
     "shell.execute_reply": "2024-08-22T08:45:14.768358Z"
    },
    "papermill": {
     "duration": 14.140092,
     "end_time": "2024-08-22T08:45:14.772074",
     "exception": false,
     "start_time": "2024-08-22T08:45:00.631982",
     "status": "completed"
    },
    "tags": []
   },
   "outputs": [
    {
     "data": {
      "text/html": [
       "<style>#sk-container-id-1 {color: black;background-color: white;}#sk-container-id-1 pre{padding: 0;}#sk-container-id-1 div.sk-toggleable {background-color: white;}#sk-container-id-1 label.sk-toggleable__label {cursor: pointer;display: block;width: 100%;margin-bottom: 0;padding: 0.3em;box-sizing: border-box;text-align: center;}#sk-container-id-1 label.sk-toggleable__label-arrow:before {content: \"▸\";float: left;margin-right: 0.25em;color: #696969;}#sk-container-id-1 label.sk-toggleable__label-arrow:hover:before {color: black;}#sk-container-id-1 div.sk-estimator:hover label.sk-toggleable__label-arrow:before {color: black;}#sk-container-id-1 div.sk-toggleable__content {max-height: 0;max-width: 0;overflow: hidden;text-align: left;background-color: #f0f8ff;}#sk-container-id-1 div.sk-toggleable__content pre {margin: 0.2em;color: black;border-radius: 0.25em;background-color: #f0f8ff;}#sk-container-id-1 input.sk-toggleable__control:checked~div.sk-toggleable__content {max-height: 200px;max-width: 100%;overflow: auto;}#sk-container-id-1 input.sk-toggleable__control:checked~label.sk-toggleable__label-arrow:before {content: \"▾\";}#sk-container-id-1 div.sk-estimator input.sk-toggleable__control:checked~label.sk-toggleable__label {background-color: #d4ebff;}#sk-container-id-1 div.sk-label input.sk-toggleable__control:checked~label.sk-toggleable__label {background-color: #d4ebff;}#sk-container-id-1 input.sk-hidden--visually {border: 0;clip: rect(1px 1px 1px 1px);clip: rect(1px, 1px, 1px, 1px);height: 1px;margin: -1px;overflow: hidden;padding: 0;position: absolute;width: 1px;}#sk-container-id-1 div.sk-estimator {font-family: monospace;background-color: #f0f8ff;border: 1px dotted black;border-radius: 0.25em;box-sizing: border-box;margin-bottom: 0.5em;}#sk-container-id-1 div.sk-estimator:hover {background-color: #d4ebff;}#sk-container-id-1 div.sk-parallel-item::after {content: \"\";width: 100%;border-bottom: 1px solid gray;flex-grow: 1;}#sk-container-id-1 div.sk-label:hover label.sk-toggleable__label {background-color: #d4ebff;}#sk-container-id-1 div.sk-serial::before {content: \"\";position: absolute;border-left: 1px solid gray;box-sizing: border-box;top: 0;bottom: 0;left: 50%;z-index: 0;}#sk-container-id-1 div.sk-serial {display: flex;flex-direction: column;align-items: center;background-color: white;padding-right: 0.2em;padding-left: 0.2em;position: relative;}#sk-container-id-1 div.sk-item {position: relative;z-index: 1;}#sk-container-id-1 div.sk-parallel {display: flex;align-items: stretch;justify-content: center;background-color: white;position: relative;}#sk-container-id-1 div.sk-item::before, #sk-container-id-1 div.sk-parallel-item::before {content: \"\";position: absolute;border-left: 1px solid gray;box-sizing: border-box;top: 0;bottom: 0;left: 50%;z-index: -1;}#sk-container-id-1 div.sk-parallel-item {display: flex;flex-direction: column;z-index: 1;position: relative;background-color: white;}#sk-container-id-1 div.sk-parallel-item:first-child::after {align-self: flex-end;width: 50%;}#sk-container-id-1 div.sk-parallel-item:last-child::after {align-self: flex-start;width: 50%;}#sk-container-id-1 div.sk-parallel-item:only-child::after {width: 0;}#sk-container-id-1 div.sk-dashed-wrapped {border: 1px dashed gray;margin: 0 0.4em 0.5em 0.4em;box-sizing: border-box;padding-bottom: 0.4em;background-color: white;}#sk-container-id-1 div.sk-label label {font-family: monospace;font-weight: bold;display: inline-block;line-height: 1.2em;}#sk-container-id-1 div.sk-label-container {text-align: center;}#sk-container-id-1 div.sk-container {/* jupyter's `normalize.less` sets `[hidden] { display: none; }` but bootstrap.min.css set `[hidden] { display: none !important; }` so we also need the `!important` here to be able to override the default hidden behavior on the sphinx rendered scikit-learn.org. See: https://github.com/scikit-learn/scikit-learn/issues/21755 */display: inline-block !important;position: relative;}#sk-container-id-1 div.sk-text-repr-fallback {display: none;}</style><div id=\"sk-container-id-1\" class=\"sk-top-container\"><div class=\"sk-text-repr-fallback\"><pre>VotingClassifier(estimators=[(&#x27;cat&#x27;,\n",
       "                              &lt;catboost.core.CatBoostClassifier object at 0x7bb81d30c190&gt;),\n",
       "                             (&#x27;lgb&#x27;, LGBMClassifier(verbose=-1)),\n",
       "                             (&#x27;xgb&#x27;,\n",
       "                              XGBClassifier(base_score=None, booster=None,\n",
       "                                            callbacks=None,\n",
       "                                            colsample_bylevel=None,\n",
       "                                            colsample_bynode=None,\n",
       "                                            colsample_bytree=None, device=None,\n",
       "                                            early_stopping_rounds=None,\n",
       "                                            enable_categorical=False,\n",
       "                                            eval_metric=None,\n",
       "                                            feature_...\n",
       "                                            importance_type=None,\n",
       "                                            interaction_constraints=None,\n",
       "                                            learning_rate=None, max_bin=None,\n",
       "                                            max_cat_threshold=None,\n",
       "                                            max_cat_to_onehot=None,\n",
       "                                            max_delta_step=None, max_depth=None,\n",
       "                                            max_leaves=None,\n",
       "                                            min_child_weight=None, missing=nan,\n",
       "                                            monotone_constraints=None,\n",
       "                                            multi_strategy=None,\n",
       "                                            n_estimators=None, n_jobs=None,\n",
       "                                            num_parallel_tree=None,\n",
       "                                            random_state=None, ...))],\n",
       "                 n_jobs=-1, voting=&#x27;soft&#x27;)</pre><b>In a Jupyter environment, please rerun this cell to show the HTML representation or trust the notebook. <br />On GitHub, the HTML representation is unable to render, please try loading this page with nbviewer.org.</b></div><div class=\"sk-container\" hidden><div class=\"sk-item sk-dashed-wrapped\"><div class=\"sk-label-container\"><div class=\"sk-label sk-toggleable\"><input class=\"sk-toggleable__control sk-hidden--visually\" id=\"sk-estimator-id-1\" type=\"checkbox\" ><label for=\"sk-estimator-id-1\" class=\"sk-toggleable__label sk-toggleable__label-arrow\">VotingClassifier</label><div class=\"sk-toggleable__content\"><pre>VotingClassifier(estimators=[(&#x27;cat&#x27;,\n",
       "                              &lt;catboost.core.CatBoostClassifier object at 0x7bb81d30c190&gt;),\n",
       "                             (&#x27;lgb&#x27;, LGBMClassifier(verbose=-1)),\n",
       "                             (&#x27;xgb&#x27;,\n",
       "                              XGBClassifier(base_score=None, booster=None,\n",
       "                                            callbacks=None,\n",
       "                                            colsample_bylevel=None,\n",
       "                                            colsample_bynode=None,\n",
       "                                            colsample_bytree=None, device=None,\n",
       "                                            early_stopping_rounds=None,\n",
       "                                            enable_categorical=False,\n",
       "                                            eval_metric=None,\n",
       "                                            feature_...\n",
       "                                            importance_type=None,\n",
       "                                            interaction_constraints=None,\n",
       "                                            learning_rate=None, max_bin=None,\n",
       "                                            max_cat_threshold=None,\n",
       "                                            max_cat_to_onehot=None,\n",
       "                                            max_delta_step=None, max_depth=None,\n",
       "                                            max_leaves=None,\n",
       "                                            min_child_weight=None, missing=nan,\n",
       "                                            monotone_constraints=None,\n",
       "                                            multi_strategy=None,\n",
       "                                            n_estimators=None, n_jobs=None,\n",
       "                                            num_parallel_tree=None,\n",
       "                                            random_state=None, ...))],\n",
       "                 n_jobs=-1, voting=&#x27;soft&#x27;)</pre></div></div></div><div class=\"sk-parallel\"><div class=\"sk-parallel-item\"><div class=\"sk-item\"><div class=\"sk-label-container\"><div class=\"sk-label sk-toggleable\"><label>cat</label></div></div><div class=\"sk-serial\"><div class=\"sk-item\"><div class=\"sk-estimator sk-toggleable\"><input class=\"sk-toggleable__control sk-hidden--visually\" id=\"sk-estimator-id-2\" type=\"checkbox\" ><label for=\"sk-estimator-id-2\" class=\"sk-toggleable__label sk-toggleable__label-arrow\">CatBoostClassifier</label><div class=\"sk-toggleable__content\"><pre>&lt;catboost.core.CatBoostClassifier object at 0x7bb81d30c190&gt;</pre></div></div></div></div></div></div><div class=\"sk-parallel-item\"><div class=\"sk-item\"><div class=\"sk-label-container\"><div class=\"sk-label sk-toggleable\"><label>lgb</label></div></div><div class=\"sk-serial\"><div class=\"sk-item\"><div class=\"sk-estimator sk-toggleable\"><input class=\"sk-toggleable__control sk-hidden--visually\" id=\"sk-estimator-id-3\" type=\"checkbox\" ><label for=\"sk-estimator-id-3\" class=\"sk-toggleable__label sk-toggleable__label-arrow\">LGBMClassifier</label><div class=\"sk-toggleable__content\"><pre>LGBMClassifier(verbose=-1)</pre></div></div></div></div></div></div><div class=\"sk-parallel-item\"><div class=\"sk-item\"><div class=\"sk-label-container\"><div class=\"sk-label sk-toggleable\"><label>xgb</label></div></div><div class=\"sk-serial\"><div class=\"sk-item\"><div class=\"sk-estimator sk-toggleable\"><input class=\"sk-toggleable__control sk-hidden--visually\" id=\"sk-estimator-id-4\" type=\"checkbox\" ><label for=\"sk-estimator-id-4\" class=\"sk-toggleable__label sk-toggleable__label-arrow\">XGBClassifier</label><div class=\"sk-toggleable__content\"><pre>XGBClassifier(base_score=None, booster=None, callbacks=None,\n",
       "              colsample_bylevel=None, colsample_bynode=None,\n",
       "              colsample_bytree=None, device=None, early_stopping_rounds=None,\n",
       "              enable_categorical=False, eval_metric=None, feature_types=None,\n",
       "              gamma=None, grow_policy=None, importance_type=None,\n",
       "              interaction_constraints=None, learning_rate=None, max_bin=None,\n",
       "              max_cat_threshold=None, max_cat_to_onehot=None,\n",
       "              max_delta_step=None, max_depth=None, max_leaves=None,\n",
       "              min_child_weight=None, missing=nan, monotone_constraints=None,\n",
       "              multi_strategy=None, n_estimators=None, n_jobs=None,\n",
       "              num_parallel_tree=None, random_state=None, ...)</pre></div></div></div></div></div></div></div></div></div></div>"
      ],
      "text/plain": [
       "VotingClassifier(estimators=[('cat',\n",
       "                              <catboost.core.CatBoostClassifier object at 0x7bb81d30c190>),\n",
       "                             ('lgb', LGBMClassifier(verbose=-1)),\n",
       "                             ('xgb',\n",
       "                              XGBClassifier(base_score=None, booster=None,\n",
       "                                            callbacks=None,\n",
       "                                            colsample_bylevel=None,\n",
       "                                            colsample_bynode=None,\n",
       "                                            colsample_bytree=None, device=None,\n",
       "                                            early_stopping_rounds=None,\n",
       "                                            enable_categorical=False,\n",
       "                                            eval_metric=None,\n",
       "                                            feature_...\n",
       "                                            importance_type=None,\n",
       "                                            interaction_constraints=None,\n",
       "                                            learning_rate=None, max_bin=None,\n",
       "                                            max_cat_threshold=None,\n",
       "                                            max_cat_to_onehot=None,\n",
       "                                            max_delta_step=None, max_depth=None,\n",
       "                                            max_leaves=None,\n",
       "                                            min_child_weight=None, missing=nan,\n",
       "                                            monotone_constraints=None,\n",
       "                                            multi_strategy=None,\n",
       "                                            n_estimators=None, n_jobs=None,\n",
       "                                            num_parallel_tree=None,\n",
       "                                            random_state=None, ...))],\n",
       "                 n_jobs=-1, voting='soft')"
      ]
     },
     "execution_count": 11,
     "metadata": {},
     "output_type": "execute_result"
    }
   ],
   "source": [
    "clf.fit(X_train , y_train)"
   ]
  },
  {
   "cell_type": "code",
   "execution_count": 12,
   "id": "b96a7245",
   "metadata": {
    "execution": {
     "iopub.execute_input": "2024-08-22T08:45:14.783855Z",
     "iopub.status.busy": "2024-08-22T08:45:14.782970Z",
     "iopub.status.idle": "2024-08-22T08:45:14.973172Z",
     "shell.execute_reply": "2024-08-22T08:45:14.972107Z"
    },
    "papermill": {
     "duration": 0.19888,
     "end_time": "2024-08-22T08:45:14.975904",
     "exception": false,
     "start_time": "2024-08-22T08:45:14.777024",
     "status": "completed"
    },
    "tags": []
   },
   "outputs": [],
   "source": [
    "y_probs = clf.predict_proba(X_test)"
   ]
  },
  {
   "cell_type": "markdown",
   "id": "9d2eb995",
   "metadata": {
    "papermill": {
     "duration": 0.004375,
     "end_time": "2024-08-22T08:45:14.984895",
     "exception": false,
     "start_time": "2024-08-22T08:45:14.980520",
     "status": "completed"
    },
    "tags": []
   },
   "source": [
    "**The Area Under the Precision-Recall Curve (AUPRC) is used to evaluate the performance of a binary classification model, especially when dealing with imbalanced datasets**"
   ]
  },
  {
   "cell_type": "code",
   "execution_count": 13,
   "id": "b9bf27dc",
   "metadata": {
    "execution": {
     "iopub.execute_input": "2024-08-22T08:45:14.995889Z",
     "iopub.status.busy": "2024-08-22T08:45:14.995134Z",
     "iopub.status.idle": "2024-08-22T08:45:15.349165Z",
     "shell.execute_reply": "2024-08-22T08:45:15.348041Z"
    },
    "papermill": {
     "duration": 0.362089,
     "end_time": "2024-08-22T08:45:15.351449",
     "exception": false,
     "start_time": "2024-08-22T08:45:14.989360",
     "status": "completed"
    },
    "tags": []
   },
   "outputs": [
    {
     "data": {
      "image/png": "[encoded data removed]",
      "text/plain": [
       "<Figure size 640x480 with 1 Axes>"
      ]
     },
     "metadata": {},
     "output_type": "display_data"
    }
   ],
   "source": [
    "from sklearn.metrics import precision_recall_curve, auc\n",
    "import matplotlib.pyplot as plt\n",
    "\n",
    "y_probs_positive_class = y_probs[:, 1]\n",
    "\n",
    "precision, recall, _ = precision_recall_curve(y_test, y_probs_positive_class)\n",
    "\n",
    "auprc = auc(recall, precision)\n",
    "\n",
    "plt.plot(recall, precision, marker='.')\n",
    "plt.xlabel('Recall')\n",
    "plt.ylabel('Precision')\n",
    "plt.title(f'Precision-Recall Curve (AUC = {auprc:.2f})')\n",
    "plt.show()\n"
   ]
  },
  {
   "cell_type": "code",
   "execution_count": null,
   "id": "cf9a5da0",
   "metadata": {
    "papermill": {
     "duration": 0.004806,
     "end_time": "2024-08-22T08:45:15.361370",
     "exception": false,
     "start_time": "2024-08-22T08:45:15.356564",
     "status": "completed"
    },
    "tags": []
   },
   "outputs": [],
   "source": []
  }
 ],
 "metadata": {
  "kaggle": {
   "accelerator": "none",
   "dataSources": [
    {
     "datasetId": 1703281,
     "sourceId": 2789260,
     "sourceType": "datasetVersion"
    }
   ],
   "dockerImageVersionId": 30761,
   "isGpuEnabled": false,
   "isInternetEnabled": true,
   "language": "python",
   "sourceType": "notebook"
  },
  "kernelspec": {
   "display_name": "Python 3",
   "language": "python",
   "name": "python3"
  },
  "language_info": {
   "codemirror_mode": {
    "name": "ipython",
    "version": 3
   },
   "file_extension": ".py",
   "mimetype": "text/x-python",
   "name": "python",
   "nbconvert_exporter": "python",
   "pygments_lexer": "ipython3",
   "version": "3.10.14"
  },
  "papermill": {
   "default_parameters": {},
   "duration": 24.388627,
   "end_time": "2024-08-22T08:45:17.987884",
   "environment_variables": {},
   "exception": null,
   "input_path": "__notebook__.ipynb",
   "output_path": "__notebook__.ipynb",
   "parameters": {},
   "start_time": "2024-08-22T08:44:53.599257",
   "version": "2.6.0"
  }
 },
 "nbformat": 4,
 "nbformat_minor": 5
}
